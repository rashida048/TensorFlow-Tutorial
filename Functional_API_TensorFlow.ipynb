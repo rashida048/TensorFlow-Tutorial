{
  "nbformat": 4,
  "nbformat_minor": 0,
  "metadata": {
    "colab": {
      "provenance": []
    },
    "kernelspec": {
      "name": "python3",
      "display_name": "Python 3"
    },
    "language_info": {
      "name": "python"
    }
  },
  "cells": [
    {
      "cell_type": "code",
      "execution_count": 1,
      "metadata": {
        "id": "cmGAxFIQO45j"
      },
      "outputs": [],
      "source": [
        "from sklearn.datasets import fetch_california_housing\n",
        "housing = fetch_california_housing()"
      ]
    },
    {
      "cell_type": "code",
      "source": [
        "from sklearn.model_selection import train_test_split\n",
        "x_train, x_test, y_train, y_test = train_test_split(\n",
        "    housing.data, housing.target, random_state=42\n",
        ")"
      ],
      "metadata": {
        "id": "WWoXbk2cO83z"
      },
      "execution_count": 2,
      "outputs": []
    },
    {
      "cell_type": "code",
      "source": [
        "x_train"
      ],
      "metadata": {
        "colab": {
          "base_uri": "https://localhost:8080/"
        },
        "id": "_lQLe2xkPA4V",
        "outputId": "974ad212-8db3-4bb5-a113-f3233b89c612"
      },
      "execution_count": 3,
      "outputs": [
        {
          "output_type": "execute_result",
          "data": {
            "text/plain": [
              "array([[   4.2143    ,   37.        ,    5.28823529, ...,    2.52941176,\n",
              "          33.81      , -118.12      ],\n",
              "       [   5.3468    ,   42.        ,    6.36432161, ...,    2.40452261,\n",
              "          37.16      , -121.98      ],\n",
              "       [   3.9191    ,   36.        ,    6.11006289, ...,    2.23584906,\n",
              "          38.45      , -122.69      ],\n",
              "       ...,\n",
              "       [   2.9344    ,   36.        ,    3.98671727, ...,    3.33206831,\n",
              "          34.03      , -118.38      ],\n",
              "       [   5.7192    ,   15.        ,    6.39534884, ...,    3.17889088,\n",
              "          37.58      , -121.96      ],\n",
              "       [   2.5755    ,   52.        ,    3.40257649, ...,    2.10869565,\n",
              "          37.77      , -122.42      ]])"
            ]
          },
          "metadata": {},
          "execution_count": 3
        }
      ]
    },
    {
      "cell_type": "code",
      "source": [
        "import tensorflow as tf\n",
        "tf.random.set_seed(42)"
      ],
      "metadata": {
        "id": "FYcZOUjDPFVT"
      },
      "execution_count": 4,
      "outputs": []
    },
    {
      "cell_type": "code",
      "source": [
        "x_train.shape"
      ],
      "metadata": {
        "colab": {
          "base_uri": "https://localhost:8080/"
        },
        "id": "lPZWgAoOPHnF",
        "outputId": "c71ed7d7-2def-4e79-dd6b-85b5d56c4d63"
      },
      "execution_count": 5,
      "outputs": [
        {
          "output_type": "execute_result",
          "data": {
            "text/plain": [
              "(15480, 8)"
            ]
          },
          "metadata": {},
          "execution_count": 5
        }
      ]
    },
    {
      "cell_type": "code",
      "source": [
        "x_test.shape"
      ],
      "metadata": {
        "colab": {
          "base_uri": "https://localhost:8080/"
        },
        "id": "LcYq4ErDPJ6p",
        "outputId": "f738e410-105b-4ca7-d7f9-29525ee18a1a"
      },
      "execution_count": 6,
      "outputs": [
        {
          "output_type": "execute_result",
          "data": {
            "text/plain": [
              "(5160, 8)"
            ]
          },
          "metadata": {},
          "execution_count": 6
        }
      ]
    },
    {
      "cell_type": "code",
      "source": [
        "inputs = tf.keras.layers.Input(shape=(8,))\n",
        "dense_layer = tf.keras.layers.Dense(128, activation=\"relu\")(inputs)\n",
        "outputs = tf.keras.layers.Dense(1)(dense_layer)"
      ],
      "metadata": {
        "id": "fDYnNAbsPLCI"
      },
      "execution_count": null,
      "outputs": []
    },
    {
      "cell_type": "code",
      "source": [
        "model = tf.keras.models.Model(inputs=[inputs], outputs = [outputs])"
      ],
      "metadata": {
        "id": "o7RrErWeSeja"
      },
      "execution_count": null,
      "outputs": []
    },
    {
      "cell_type": "code",
      "source": [
        "model.compile(loss=\"mse\", optimizer=tf.keras.optimizers.Adam(learning_rate=1e-3),\n",
        "              metrics=[\"RootMeanSquaredError\"])"
      ],
      "metadata": {
        "id": "GbdZLxMtTkms"
      },
      "execution_count": null,
      "outputs": []
    },
    {
      "cell_type": "code",
      "source": [
        "h = model.fit(\n",
        "    x_train, y_train, epochs = 20, validation_split = 0.2\n",
        ")"
      ],
      "metadata": {
        "colab": {
          "base_uri": "https://localhost:8080/"
        },
        "id": "OmIJ9OHcU3og",
        "outputId": "c37e6b6e-5667-426c-d306-685ca89f31fd"
      },
      "execution_count": null,
      "outputs": [
        {
          "output_type": "stream",
          "name": "stdout",
          "text": [
            "Epoch 1/20\n",
            "387/387 [==============================] - 3s 3ms/step - loss: 10.6166 - root_mean_squared_error: 3.2583 - val_loss: 1.2727 - val_root_mean_squared_error: 1.1281\n",
            "Epoch 2/20\n",
            "387/387 [==============================] - 1s 2ms/step - loss: 1.5264 - root_mean_squared_error: 1.2355 - val_loss: 0.9239 - val_root_mean_squared_error: 0.9612\n",
            "Epoch 3/20\n",
            "387/387 [==============================] - 1s 2ms/step - loss: 12.3470 - root_mean_squared_error: 3.5138 - val_loss: 1.4282 - val_root_mean_squared_error: 1.1951\n",
            "Epoch 4/20\n",
            "387/387 [==============================] - 1s 2ms/step - loss: 1.0408 - root_mean_squared_error: 1.0202 - val_loss: 8.7105 - val_root_mean_squared_error: 2.9514\n",
            "Epoch 5/20\n",
            "387/387 [==============================] - 1s 2ms/step - loss: 1.0963 - root_mean_squared_error: 1.0470 - val_loss: 0.6861 - val_root_mean_squared_error: 0.8283\n",
            "Epoch 6/20\n",
            "387/387 [==============================] - 1s 2ms/step - loss: 27.4450 - root_mean_squared_error: 5.2388 - val_loss: 0.6723 - val_root_mean_squared_error: 0.8199\n",
            "Epoch 7/20\n",
            "387/387 [==============================] - 1s 2ms/step - loss: 1.1753 - root_mean_squared_error: 1.0841 - val_loss: 0.6837 - val_root_mean_squared_error: 0.8268\n",
            "Epoch 8/20\n",
            "387/387 [==============================] - 1s 2ms/step - loss: 1.4494 - root_mean_squared_error: 1.2039 - val_loss: 0.8582 - val_root_mean_squared_error: 0.9264\n",
            "Epoch 9/20\n",
            "387/387 [==============================] - 1s 2ms/step - loss: 24.2385 - root_mean_squared_error: 4.9233 - val_loss: 410.6181 - val_root_mean_squared_error: 20.2637\n",
            "Epoch 10/20\n",
            "387/387 [==============================] - 1s 2ms/step - loss: 7.9891 - root_mean_squared_error: 2.8265 - val_loss: 0.6427 - val_root_mean_squared_error: 0.8017\n",
            "Epoch 11/20\n",
            "387/387 [==============================] - 1s 3ms/step - loss: 0.7048 - root_mean_squared_error: 0.8395 - val_loss: 0.7673 - val_root_mean_squared_error: 0.8759\n",
            "Epoch 12/20\n",
            "387/387 [==============================] - 1s 3ms/step - loss: 1.1196 - root_mean_squared_error: 1.0581 - val_loss: 2.4905 - val_root_mean_squared_error: 1.5781\n",
            "Epoch 13/20\n",
            "387/387 [==============================] - 1s 3ms/step - loss: 0.8178 - root_mean_squared_error: 0.9043 - val_loss: 0.6391 - val_root_mean_squared_error: 0.7995\n",
            "Epoch 14/20\n",
            "387/387 [==============================] - 1s 3ms/step - loss: 14.9588 - root_mean_squared_error: 3.8677 - val_loss: 0.7617 - val_root_mean_squared_error: 0.8727\n",
            "Epoch 15/20\n",
            "387/387 [==============================] - 1s 2ms/step - loss: 1.4544 - root_mean_squared_error: 1.2060 - val_loss: 0.6162 - val_root_mean_squared_error: 0.7850\n",
            "Epoch 16/20\n",
            "387/387 [==============================] - 1s 2ms/step - loss: 0.8386 - root_mean_squared_error: 0.9157 - val_loss: 0.7294 - val_root_mean_squared_error: 0.8540\n",
            "Epoch 17/20\n",
            "387/387 [==============================] - 1s 2ms/step - loss: 2.9778 - root_mean_squared_error: 1.7256 - val_loss: 1.3626 - val_root_mean_squared_error: 1.1673\n",
            "Epoch 18/20\n",
            "387/387 [==============================] - 1s 2ms/step - loss: 6.9967 - root_mean_squared_error: 2.6451 - val_loss: 1.4020 - val_root_mean_squared_error: 1.1841\n",
            "Epoch 19/20\n",
            "387/387 [==============================] - 1s 2ms/step - loss: 2.9880 - root_mean_squared_error: 1.7286 - val_loss: 25.1050 - val_root_mean_squared_error: 5.0105\n",
            "Epoch 20/20\n",
            "387/387 [==============================] - 1s 2ms/step - loss: 84.7533 - root_mean_squared_error: 9.2062 - val_loss: 1.5083 - val_root_mean_squared_error: 1.2281\n"
          ]
        }
      ]
    },
    {
      "cell_type": "code",
      "source": [
        "model.evaluate(x_test, y_test)"
      ],
      "metadata": {
        "colab": {
          "base_uri": "https://localhost:8080/"
        },
        "id": "qweWLm5IVFM0",
        "outputId": "a6bcca35-108b-4dd0-a099-5c0dcba3a800"
      },
      "execution_count": null,
      "outputs": [
        {
          "output_type": "stream",
          "name": "stdout",
          "text": [
            "162/162 [==============================] - 1s 3ms/step - loss: 0.8592 - root_mean_squared_error: 0.9269\n"
          ]
        },
        {
          "output_type": "execute_result",
          "data": {
            "text/plain": [
              "[0.8591938018798828, 0.9269270896911621]"
            ]
          },
          "metadata": {},
          "execution_count": 13
        }
      ]
    },
    {
      "cell_type": "code",
      "source": [
        "model.predict(x_test)"
      ],
      "metadata": {
        "colab": {
          "base_uri": "https://localhost:8080/"
        },
        "id": "NzISGE5YVRLt",
        "outputId": "83d9d11b-c78f-46c6-de49-5f2a76284028"
      },
      "execution_count": null,
      "outputs": [
        {
          "output_type": "stream",
          "name": "stdout",
          "text": [
            "162/162 [==============================] - 1s 2ms/step\n"
          ]
        },
        {
          "output_type": "execute_result",
          "data": {
            "text/plain": [
              "array([[0.70917785],\n",
              "       [1.1722058 ],\n",
              "       [1.8342732 ],\n",
              "       ...,\n",
              "       [1.518607  ],\n",
              "       [2.7704456 ],\n",
              "       [3.2068431 ]], dtype=float32)"
            ]
          },
          "metadata": {},
          "execution_count": 14
        }
      ]
    },
    {
      "cell_type": "code",
      "source": [
        "input_layer = tf.keras.layers.Input(shape=(8,))\n",
        "hidden1 = tf.keras.layers.Dense(128, activation=\"relu\")(input_layer)\n",
        "hidden2 = tf.keras.layers.Dense(64, activation=\"relu\")(hidden1)\n",
        "concat = tf.keras.layers.Concatenate()([input_layer, hidden1])\n",
        "output_layer = tf.keras.layers.Dense(1)(concat)\n",
        "\n",
        "model1 = tf.keras.models.Model(inputs=[input_layer], outputs = [output_layer])"
      ],
      "metadata": {
        "id": "xdx4dcS-VT0U"
      },
      "execution_count": null,
      "outputs": []
    },
    {
      "cell_type": "code",
      "source": [
        "model1.compile(loss=\"mse\", optimizer=tf.keras.optimizers.Adam(learning_rate=1e-4),\n",
        "              metrics=[\"RootMeanSquaredError\"])"
      ],
      "metadata": {
        "id": "2lOyxgMvxHWv"
      },
      "execution_count": null,
      "outputs": []
    },
    {
      "cell_type": "code",
      "source": [
        "h = model1.fit(\n",
        "    x_train, y_train, epochs = 20, validation_split = 0.2\n",
        ")"
      ],
      "metadata": {
        "colab": {
          "base_uri": "https://localhost:8080/"
        },
        "id": "2gd-dZHqxK6t",
        "outputId": "bc6bb23c-57a0-4007-fd34-2dffc7e8e305"
      },
      "execution_count": null,
      "outputs": [
        {
          "output_type": "stream",
          "name": "stdout",
          "text": [
            "Epoch 1/20\n",
            "387/387 [==============================] - 2s 3ms/step - loss: 6102.0176 - root_mean_squared_error: 78.1154 - val_loss: 16.6492 - val_root_mean_squared_error: 4.0803\n",
            "Epoch 2/20\n",
            "387/387 [==============================] - 1s 2ms/step - loss: 7.9616 - root_mean_squared_error: 2.8216 - val_loss: 2.3383 - val_root_mean_squared_error: 1.5292\n",
            "Epoch 3/20\n",
            "387/387 [==============================] - 1s 2ms/step - loss: 1.9238 - root_mean_squared_error: 1.3870 - val_loss: 1.5913 - val_root_mean_squared_error: 1.2615\n",
            "Epoch 4/20\n",
            "387/387 [==============================] - 1s 2ms/step - loss: 1.4790 - root_mean_squared_error: 1.2161 - val_loss: 1.3420 - val_root_mean_squared_error: 1.1584\n",
            "Epoch 5/20\n",
            "387/387 [==============================] - 1s 2ms/step - loss: 1.2787 - root_mean_squared_error: 1.1308 - val_loss: 1.2154 - val_root_mean_squared_error: 1.1024\n",
            "Epoch 6/20\n",
            "387/387 [==============================] - 1s 2ms/step - loss: 1.1490 - root_mean_squared_error: 1.0719 - val_loss: 1.0968 - val_root_mean_squared_error: 1.0473\n",
            "Epoch 7/20\n",
            "387/387 [==============================] - 1s 2ms/step - loss: 1.0457 - root_mean_squared_error: 1.0226 - val_loss: 1.0012 - val_root_mean_squared_error: 1.0006\n",
            "Epoch 8/20\n",
            "387/387 [==============================] - 1s 3ms/step - loss: 0.9677 - root_mean_squared_error: 0.9837 - val_loss: 0.9656 - val_root_mean_squared_error: 0.9826\n",
            "Epoch 9/20\n",
            "387/387 [==============================] - 1s 3ms/step - loss: 0.9115 - root_mean_squared_error: 0.9547 - val_loss: 0.9024 - val_root_mean_squared_error: 0.9499\n",
            "Epoch 10/20\n",
            "387/387 [==============================] - 1s 2ms/step - loss: 0.8619 - root_mean_squared_error: 0.9284 - val_loss: 0.8433 - val_root_mean_squared_error: 0.9183\n",
            "Epoch 11/20\n",
            "387/387 [==============================] - 1s 2ms/step - loss: 0.8262 - root_mean_squared_error: 0.9089 - val_loss: 0.8209 - val_root_mean_squared_error: 0.9060\n",
            "Epoch 12/20\n",
            "387/387 [==============================] - 1s 2ms/step - loss: 0.7922 - root_mean_squared_error: 0.8901 - val_loss: 0.7941 - val_root_mean_squared_error: 0.8911\n",
            "Epoch 13/20\n",
            "387/387 [==============================] - 1s 3ms/step - loss: 0.7685 - root_mean_squared_error: 0.8766 - val_loss: 0.7872 - val_root_mean_squared_error: 0.8872\n",
            "Epoch 14/20\n",
            "387/387 [==============================] - 1s 2ms/step - loss: 0.7494 - root_mean_squared_error: 0.8657 - val_loss: 0.7803 - val_root_mean_squared_error: 0.8834\n",
            "Epoch 15/20\n",
            "387/387 [==============================] - 1s 2ms/step - loss: 0.7292 - root_mean_squared_error: 0.8539 - val_loss: 0.7361 - val_root_mean_squared_error: 0.8580\n",
            "Epoch 16/20\n",
            "387/387 [==============================] - 1s 2ms/step - loss: 0.7175 - root_mean_squared_error: 0.8470 - val_loss: 0.7279 - val_root_mean_squared_error: 0.8532\n",
            "Epoch 17/20\n",
            "387/387 [==============================] - 1s 2ms/step - loss: 0.7096 - root_mean_squared_error: 0.8424 - val_loss: 0.7236 - val_root_mean_squared_error: 0.8506\n",
            "Epoch 18/20\n",
            "387/387 [==============================] - 1s 2ms/step - loss: 0.7031 - root_mean_squared_error: 0.8385 - val_loss: 0.7683 - val_root_mean_squared_error: 0.8765\n",
            "Epoch 19/20\n",
            "387/387 [==============================] - 1s 2ms/step - loss: 0.7764 - root_mean_squared_error: 0.8811 - val_loss: 0.7885 - val_root_mean_squared_error: 0.8880\n",
            "Epoch 20/20\n",
            "387/387 [==============================] - 1s 2ms/step - loss: 0.7327 - root_mean_squared_error: 0.8560 - val_loss: 0.7436 - val_root_mean_squared_error: 0.8623\n"
          ]
        }
      ]
    },
    {
      "cell_type": "code",
      "source": [
        "model1.evaluate(x_test, y_test)"
      ],
      "metadata": {
        "colab": {
          "base_uri": "https://localhost:8080/"
        },
        "id": "K5o3n5IgxQk5",
        "outputId": "04667576-44ad-4cdc-e6fc-c4cd28eaacd9"
      },
      "execution_count": null,
      "outputs": [
        {
          "output_type": "stream",
          "name": "stdout",
          "text": [
            "162/162 [==============================] - 0s 2ms/step - loss: 0.7036 - root_mean_squared_error: 0.8388\n"
          ]
        },
        {
          "output_type": "execute_result",
          "data": {
            "text/plain": [
              "[0.7036377787590027, 0.8388311862945557]"
            ]
          },
          "metadata": {},
          "execution_count": 31
        }
      ]
    },
    {
      "cell_type": "code",
      "source": [],
      "metadata": {
        "id": "Ut1h79bRyEVi"
      },
      "execution_count": null,
      "outputs": []
    }
  ]
}