{
  "nbformat": 4,
  "nbformat_minor": 0,
  "metadata": {
    "colab": {
      "provenance": []
    },
    "kernelspec": {
      "name": "python3",
      "display_name": "Python 3"
    },
    "language_info": {
      "name": "python"
    }
  },
  "cells": [
    {
      "cell_type": "code",
      "execution_count": null,
      "metadata": {
        "id": "7EIbTtSalKu2"
      },
      "outputs": [],
      "source": [
        "from sklearn.datasets import fetch_california_housing\n",
        "housing = fetch_california_housing()"
      ]
    },
    {
      "cell_type": "code",
      "source": [
        "from sklearn.model_selection import train_test_split\n",
        "x_train, x_test, y_train, y_test = train_test_split(\n",
        "     housing.data, housing.target, random_state=42)"
      ],
      "metadata": {
        "id": "Jtt9fC5HlMJ9"
      },
      "execution_count": null,
      "outputs": []
    },
    {
      "cell_type": "code",
      "source": [
        "x_train"
      ],
      "metadata": {
        "colab": {
          "base_uri": "https://localhost:8080/"
        },
        "id": "Ksn4RuA5sWdq",
        "outputId": "3904eeb0-13b3-4e6c-c8d0-417df6f4cec4"
      },
      "execution_count": null,
      "outputs": [
        {
          "output_type": "execute_result",
          "data": {
            "text/plain": [
              "array([[   4.2143    ,   37.        ,    5.28823529, ...,    2.52941176,\n",
              "          33.81      , -118.12      ],\n",
              "       [   5.3468    ,   42.        ,    6.36432161, ...,    2.40452261,\n",
              "          37.16      , -121.98      ],\n",
              "       [   3.9191    ,   36.        ,    6.11006289, ...,    2.23584906,\n",
              "          38.45      , -122.69      ],\n",
              "       ...,\n",
              "       [   2.9344    ,   36.        ,    3.98671727, ...,    3.33206831,\n",
              "          34.03      , -118.38      ],\n",
              "       [   5.7192    ,   15.        ,    6.39534884, ...,    3.17889088,\n",
              "          37.58      , -121.96      ],\n",
              "       [   2.5755    ,   52.        ,    3.40257649, ...,    2.10869565,\n",
              "          37.77      , -122.42      ]])"
            ]
          },
          "metadata": {},
          "execution_count": 3
        }
      ]
    },
    {
      "cell_type": "code",
      "source": [
        "import tensorflow as tf\n",
        "tf.random.set_seed(42)"
      ],
      "metadata": {
        "id": "JUDaqwVGlPb_"
      },
      "execution_count": null,
      "outputs": []
    },
    {
      "cell_type": "code",
      "source": [
        "x_train.shape"
      ],
      "metadata": {
        "colab": {
          "base_uri": "https://localhost:8080/"
        },
        "id": "jSEl1LZDlRqK",
        "outputId": "8c3c2800-c9b0-4a04-d686-dfa8435f6730"
      },
      "execution_count": null,
      "outputs": [
        {
          "output_type": "execute_result",
          "data": {
            "text/plain": [
              "(15480, 8)"
            ]
          },
          "metadata": {},
          "execution_count": 5
        }
      ]
    },
    {
      "cell_type": "code",
      "source": [
        "x_wide, x_deep  = x_train[:, :3], x_train[:, 2:]"
      ],
      "metadata": {
        "id": "eMku1PB7lU0Q"
      },
      "execution_count": null,
      "outputs": []
    },
    {
      "cell_type": "code",
      "source": [
        "x_test_wide, x_test_deep  = x_test[:, :3], x_test[:, 2:]"
      ],
      "metadata": {
        "id": "yL6RJewasslf"
      },
      "execution_count": null,
      "outputs": []
    },
    {
      "cell_type": "code",
      "source": [
        "wide_input = tf.keras.layers.Input(shape = [3])\n",
        "deep_input = tf.keras.layers.Input(shape = [6])\n",
        "\n",
        "wide_normalization = tf.keras.layers.Normalization()\n",
        "deep_normalization = tf.keras.layers.Normalization()\n",
        "\n",
        "norm_layer_wide = wide_normalization(wide_input)\n",
        "norm_layer_deep = deep_normalization(deep_input)\n",
        "\n",
        "hidden1 = tf.keras.layers.Dense(50, activation = \"elu\")(norm_layer_deep)\n",
        "hidden2 = tf.keras.layers.Dense(30, activation = \"elu\")(hidden1)\n",
        "\n",
        "concat = tf.keras.layers.concatenate([hidden2, norm_layer_wide])\n",
        "output = tf.keras.layers.Dense(1)(concat)"
      ],
      "metadata": {
        "id": "QfF7zYfCSHHD"
      },
      "execution_count": null,
      "outputs": []
    },
    {
      "cell_type": "code",
      "source": [
        "wide_normalization.adapt(x_wide)\n",
        "deep_normalization.adapt(x_deep)"
      ],
      "metadata": {
        "id": "DNAffdYl3Cyl"
      },
      "execution_count": null,
      "outputs": []
    },
    {
      "cell_type": "code",
      "source": [
        "opt = tf.keras.optimizers.Adam(learning_rate=1e-3)\n",
        "model = tf.keras.Model(inputs = [wide_input, deep_input], outputs = [output])\n",
        "\n",
        "model.compile(loss = 'mse', optimizer = opt, metrics = ['RootMeanSquaredError'])"
      ],
      "metadata": {
        "id": "qCKTbjbX3RuH"
      },
      "execution_count": null,
      "outputs": []
    },
    {
      "cell_type": "code",
      "source": [
        "h = model.fit((x_wide, x_deep), y_train, epochs = 20, validation_split = 0.2)"
      ],
      "metadata": {
        "colab": {
          "base_uri": "https://localhost:8080/"
        },
        "id": "BR-BJmlQ33mO",
        "outputId": "2afd3ae8-a991-42d7-edb1-74eab7f0b02a"
      },
      "execution_count": null,
      "outputs": [
        {
          "output_type": "stream",
          "name": "stdout",
          "text": [
            "Epoch 1/20\n",
            "387/387 [==============================] - 2s 4ms/step - loss: 2.0272 - root_mean_squared_error: 1.4238 - val_loss: 0.7803 - val_root_mean_squared_error: 0.8834\n",
            "Epoch 2/20\n",
            "387/387 [==============================] - 1s 4ms/step - loss: 0.7067 - root_mean_squared_error: 0.8407 - val_loss: 0.6184 - val_root_mean_squared_error: 0.7864\n",
            "Epoch 3/20\n",
            "387/387 [==============================] - 2s 4ms/step - loss: 0.5468 - root_mean_squared_error: 0.7395 - val_loss: 0.5417 - val_root_mean_squared_error: 0.7360\n",
            "Epoch 4/20\n",
            "387/387 [==============================] - 1s 3ms/step - loss: 0.4880 - root_mean_squared_error: 0.6986 - val_loss: 0.4988 - val_root_mean_squared_error: 0.7063\n",
            "Epoch 5/20\n",
            "387/387 [==============================] - 1s 3ms/step - loss: 0.4660 - root_mean_squared_error: 0.6827 - val_loss: 0.4821 - val_root_mean_squared_error: 0.6944\n",
            "Epoch 6/20\n",
            "387/387 [==============================] - 1s 3ms/step - loss: 0.4587 - root_mean_squared_error: 0.6773 - val_loss: 0.4730 - val_root_mean_squared_error: 0.6877\n",
            "Epoch 7/20\n",
            "387/387 [==============================] - 1s 3ms/step - loss: 0.4405 - root_mean_squared_error: 0.6637 - val_loss: 0.4648 - val_root_mean_squared_error: 0.6818\n",
            "Epoch 8/20\n",
            "387/387 [==============================] - 1s 3ms/step - loss: 0.4354 - root_mean_squared_error: 0.6599 - val_loss: 0.4633 - val_root_mean_squared_error: 0.6807\n",
            "Epoch 9/20\n",
            "387/387 [==============================] - 1s 3ms/step - loss: 0.4326 - root_mean_squared_error: 0.6577 - val_loss: 0.4606 - val_root_mean_squared_error: 0.6786\n",
            "Epoch 10/20\n",
            "387/387 [==============================] - 1s 3ms/step - loss: 0.4263 - root_mean_squared_error: 0.6529 - val_loss: 0.4570 - val_root_mean_squared_error: 0.6760\n",
            "Epoch 11/20\n",
            "387/387 [==============================] - 1s 2ms/step - loss: 0.4241 - root_mean_squared_error: 0.6512 - val_loss: 0.4706 - val_root_mean_squared_error: 0.6860\n",
            "Epoch 12/20\n",
            "387/387 [==============================] - 1s 3ms/step - loss: 0.4198 - root_mean_squared_error: 0.6479 - val_loss: 0.4530 - val_root_mean_squared_error: 0.6730\n",
            "Epoch 13/20\n",
            "387/387 [==============================] - 1s 3ms/step - loss: 0.4124 - root_mean_squared_error: 0.6422 - val_loss: 0.4383 - val_root_mean_squared_error: 0.6620\n",
            "Epoch 14/20\n",
            "387/387 [==============================] - 2s 5ms/step - loss: 0.4443 - root_mean_squared_error: 0.6665 - val_loss: 0.4398 - val_root_mean_squared_error: 0.6631\n",
            "Epoch 15/20\n",
            "387/387 [==============================] - 1s 4ms/step - loss: 0.4050 - root_mean_squared_error: 0.6364 - val_loss: 0.4343 - val_root_mean_squared_error: 0.6590\n",
            "Epoch 16/20\n",
            "387/387 [==============================] - 1s 3ms/step - loss: 0.4201 - root_mean_squared_error: 0.6481 - val_loss: 0.4429 - val_root_mean_squared_error: 0.6655\n",
            "Epoch 17/20\n",
            "387/387 [==============================] - 1s 3ms/step - loss: 0.4001 - root_mean_squared_error: 0.6325 - val_loss: 0.4391 - val_root_mean_squared_error: 0.6627\n",
            "Epoch 18/20\n",
            "387/387 [==============================] - 1s 3ms/step - loss: 0.3983 - root_mean_squared_error: 0.6311 - val_loss: 0.4336 - val_root_mean_squared_error: 0.6585\n",
            "Epoch 19/20\n",
            "387/387 [==============================] - 1s 3ms/step - loss: 0.4027 - root_mean_squared_error: 0.6345 - val_loss: 0.5154 - val_root_mean_squared_error: 0.7179\n",
            "Epoch 20/20\n",
            "387/387 [==============================] - 1s 3ms/step - loss: 0.4098 - root_mean_squared_error: 0.6402 - val_loss: 0.4199 - val_root_mean_squared_error: 0.6480\n"
          ]
        }
      ]
    },
    {
      "cell_type": "code",
      "source": [
        "model.evaluate((x_test_wide, x_test_deep), y_test)"
      ],
      "metadata": {
        "colab": {
          "base_uri": "https://localhost:8080/"
        },
        "id": "0imptNRd4QUY",
        "outputId": "3112c350-c509-485a-f13b-d22464ac01b2"
      },
      "execution_count": null,
      "outputs": [
        {
          "output_type": "stream",
          "name": "stdout",
          "text": [
            "162/162 [==============================] - 1s 5ms/step - loss: 0.3927 - root_mean_squared_error: 0.6267\n"
          ]
        },
        {
          "output_type": "execute_result",
          "data": {
            "text/plain": [
              "[0.3927355408668518, 0.626686155796051]"
            ]
          },
          "metadata": {},
          "execution_count": 17
        }
      ]
    },
    {
      "cell_type": "code",
      "source": [],
      "metadata": {
        "id": "-9QpuCZW4zr7"
      },
      "execution_count": null,
      "outputs": []
    }
  ]
}